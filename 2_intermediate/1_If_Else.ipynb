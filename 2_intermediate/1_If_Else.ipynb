{
 "cells": [
  {
   "cell_type": "markdown",
   "id": "ad00c6dd-ec89-4251-99c4-a53eb0173e75",
   "metadata": {},
   "source": [
    "### Welcome to the Intermediate Section of Complete Python Bootcamp\n",
    "__We have seen various data types and data structures till now and we have also seen how to take user input and store it.__"
   ]
  },
  {
   "cell_type": "markdown",
   "id": "99fe95a6-dab7-44b3-9acf-568ecf9896dc",
   "metadata": {},
   "source": [
    "__Let us look into a new concept called `If..Else`, which will control how code moves.__<br>Till now when ever we run a cell, the code will run from line 1 to last line without skipping any lines in between. With `If..Else` concept, you will be able to run or skip a line of code. "
   ]
  },
  {
   "cell_type": "markdown",
   "id": "4ea41c3f-0025-4ad3-b9f3-9f3c0524f433",
   "metadata": {},
   "source": [
    "__*PS: Kindly read all the comments for complete understanding of the concepts. This is essential for all the modules and sections. You will be seeing comments in between lines of code from now on. A line of code will have a comment on top, explaining how that code works.*__"
   ]
  },
  {
   "attachments": {},
   "cell_type": "markdown",
   "id": "eadfd3d2",
   "metadata": {},
   "source": [
    "__Let's say we want to build a employee salary generator with following features:__\n",
    "* We want to store the designations of employees and their performance.\n",
    "* The company chose to give hikes to employees based on their current performance.\n",
    "* If the employee performance is high, the hike percentage is high. If the employee performance is low, hike percentage is also low.\n",
    "* The hike rules are as follows\n",
    "    * If the employee performance is 5, hike is 15%\n",
    "    * If the employee performance is greater than or equal 3 and less than 5, hike is 10%\n",
    "    * If the employee performance is greater than or equal 2 and less than 3, hike is 5%\n",
    "    * If the employee performance is less than 2, then hike is 0%"
   ]
  },
  {
   "cell_type": "code",
   "execution_count": 2,
   "id": "97c8e202-d1c6-4979-8fb4-58b7a57d9eef",
   "metadata": {},
   "outputs": [
    {
     "data": {
      "text/plain": [
       "{'developer': 5,\n",
       " 'developer_lead': 3,\n",
       " 'architect': 3,\n",
       " 'senior_engineer': 1,\n",
       " 'project_manager': 4}"
      ]
     },
     "execution_count": 2,
     "metadata": {},
     "output_type": "execute_result"
    }
   ],
   "source": [
    "# Let's create an `employees` dictionary with designations ['developer', 'developer_lead', 'architect', 'senior_engineer', 'project_manager'] as keys\n",
    "# and [5, 3, 3, 1, 4] as values for employee performance\n",
    "employees = {'developer': 5, 'developer_lead': 3, 'architect': 3, 'senior_engineer': 1, 'project_manager': 4}\n",
    "employees"
   ]
  },
  {
   "cell_type": "code",
   "execution_count": null,
   "id": "55bb4925",
   "metadata": {},
   "outputs": [],
   "source": [
    "# Before we go in and build a `if_else` statement, we need to know how to write it.\n",
    "\n",
    "# Consider this \n",
    "if True or False:\n",
    "    print(True or False)"
   ]
  },
  {
   "cell_type": "code",
   "execution_count": 3,
   "id": "8a670494-edf6-492d-824b-643331ceefd3",
   "metadata": {},
   "outputs": [
    {
     "name": "stdout",
     "output_type": "stream",
     "text": [
      "hike: 10%\n"
     ]
    }
   ],
   "source": [
    "# Now we find out what is the `hike` that we need to give for architect\n",
    "# Here we use `If..Else`\n",
    "\n",
    "# Line 1: We are using a conditional statement, along with a `if` keyword.\n",
    "# Conditional statement is a statement which uses `comparision and logical operators` to return a `boolean` value\n",
    "# This means, if the conditional statement returns `True`, we will run the code inside the if block.\n",
    "# The keyword `if` will look for a conditional statement and a piece of code (or statement) for it to execute. \n",
    "if employees['architect'] == 5:\n",
    "    # Here we are checking if the `architect` employee has performance `5`,\n",
    "    # If True, we will run Line 2\n",
    "    print(\"hike: 15%\")\n",
    "    \n",
    "# Line 3: Here we do the same thing but the keyword is `elif`.\n",
    "# This is shortcut for else_if which means, \n",
    "# if the above `if-condition` is False, Check for this condition and execute the code inside it.\n",
    "elif (employees['architect'] < 5) and (employees['architect'] >= 3):\n",
    "    # Here we are checking the condition where `architect` has performance between 3 and 5\n",
    "    # If True, we will run Line 4\n",
    "    print(\"hike: 10%\")\n",
    "    \n",
    "# Line 5: Another `elif` condition\n",
    "elif (employees['architect'] < 3) and (employees['architect'] >= 2):\n",
    "    # If True, we will run line 6\n",
    "    print(\"hike: 5%\")\n",
    "\n",
    "# Line 7: Another `elif` condition\n",
    "elif employees['architect'] < 2:\n",
    "    # If True, we will run line 8\n",
    "    print(\"hike: 0%\")\n",
    "    \n",
    "# Line 9: Here we are using `else` keyword.\n",
    "# `else` will not take any conditional statement, it will execute if all the conditions on top return `False`\n",
    "else:\n",
    "    print(\"Provide values between 0 and 5\")"
   ]
  },
  {
   "cell_type": "markdown",
   "id": "97ef4d55-4216-467e-bcb0-f04752e09203",
   "metadata": {},
   "source": [
    "Few important points about `If..Else` Statements:\n",
    "* all `if` conditions __should have__ a `conditional statement` and atleast a line of code to execute\n",
    "* We __can__ write `if` condition without `elif` or `else`\n",
    "* We __can__ write `if` condition followed by `elif`, without `else`\n",
    "* We __can__ write `if` condition followed by `else`, without `elif`\n",
    "* We __cannot__ write `elif` or `else` condition without `if`"
   ]
  },
  {
   "cell_type": "code",
   "execution_count": 4,
   "id": "911af6bd-d024-4ee8-aafc-6983a67e4242",
   "metadata": {},
   "outputs": [
    {
     "name": "stdout",
     "output_type": "stream",
     "text": [
      "hike: 10%\n"
     ]
    }
   ],
   "source": [
    "# Look at Line 5 of above cell (Elif statement), we see there are two conditions joined together with logical operators\n",
    "# We can implement this behavior without the help of logical operators\n",
    "# This is called `Nested If` condition\n",
    "\n",
    "# Line 1: A general `if` statment with a condition\n",
    "if employees['architect'] < 5:\n",
    "    # Line 2: A `if` statement, inside another `if` statement\n",
    "    # This will only run, if Line 1 is True.\n",
    "    if employees['architect'] >= 3:\n",
    "        # Line 3: This code will only run if Line 1, Line 2 are True.\n",
    "        print('hike: 10%')\n",
    "        \n",
    "# In Nested statements, we call the first statement as \"parent\" statement and statements inside it as \"child/childrem\" statement(s)\n",
    "# Here Line 1 is parent statement, Line 2 is child statement"
   ]
  },
  {
   "attachments": {},
   "cell_type": "markdown",
   "id": "bf227209-21b4-47fe-99a7-fcf07a4296f8",
   "metadata": {},
   "source": [
    "__Nested Statements can be of various formats__\n",
    "\n",
    "* Has `if..elif` inside a `if`\n",
    "```python\n",
    "if CONDITION:\n",
    "    if CONDITION:\n",
    "        CODE\n",
    "    elif CONDITION:\n",
    "        CODE\n",
    "else CONDITION:\n",
    "    CODE\n",
    "```\n",
    "---\n",
    "* Has CODE before a `if` condition and no `elif` or `else`\n",
    "```python\n",
    "if CONDITION:\n",
    "    if CONDITION:\n",
    "        CODE\n",
    "        if CONDITION:\n",
    "            CODE\n",
    "```\n",
    "---\n",
    "__We can have many more variations of Nested if statements, create a new cell and try it on your own. Don't worry, we will have more of this in the future as well.__\n",
    "\n",
    "__P.S:__ *Keep it in mind that, `if..else` are a gateway for you to make your code more and more dynamic (working for multiple conditions). If you find it unclear, kindly read through the whole notebook again, or raise an issue on github, I will make sure to respond to it.*"
   ]
  }
 ],
 "metadata": {
  "kernelspec": {
   "display_name": "Python 3 (ipykernel)",
   "language": "python",
   "name": "python3"
  },
  "language_info": {
   "codemirror_mode": {
    "name": "ipython",
    "version": 3
   },
   "file_extension": ".py",
   "mimetype": "text/x-python",
   "name": "python",
   "nbconvert_exporter": "python",
   "pygments_lexer": "ipython3",
   "version": "3.10.8"
  }
 },
 "nbformat": 4,
 "nbformat_minor": 5
}
