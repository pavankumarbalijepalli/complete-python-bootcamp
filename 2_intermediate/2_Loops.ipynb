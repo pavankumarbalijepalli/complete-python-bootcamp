{
 "cells": [
  {
   "attachments": {},
   "cell_type": "markdown",
   "metadata": {},
   "source": [
    "__In the previous notebook, we have seen `if..else` statements which help in writing customised code, for each condition.__ <br>\n",
    "If we have a condition, we have written code which is executed only for such condition."
   ]
  },
  {
   "cell_type": "code",
   "execution_count": 1,
   "metadata": {},
   "outputs": [
    {
     "data": {
      "text/plain": [
       "{'developer': 5,\n",
       " 'developer_lead': 3,\n",
       " 'architect': 3,\n",
       " 'senior_engineer': 1,\n",
       " 'project_manager': 4}"
      ]
     },
     "execution_count": 1,
     "metadata": {},
     "output_type": "execute_result"
    }
   ],
   "source": [
    "# Let us copy the employee dictionary we have created from the previous notebook.\n",
    "employees = {'developer': 5, 'developer_lead': 3, 'architect': 3, 'senior_engineer': 1, 'project_manager': 4}\n",
    "employees"
   ]
  },
  {
   "cell_type": "code",
   "execution_count": 2,
   "metadata": {},
   "outputs": [
    {
     "name": "stdout",
     "output_type": "stream",
     "text": [
      "hike: 10%\n"
     ]
    }
   ],
   "source": [
    "# Let us get the whole `if_else` statements as well.\n",
    "\n",
    "if employees['architect'] == 5:\n",
    "    print(\"hike: 15%\")\n",
    "\n",
    "elif (employees['architect'] < 5) and (employees['architect'] >= 3):\n",
    "    print(\"hike: 10%\")\n",
    "    \n",
    "elif (employees['architect'] < 3) and (employees['architect'] >= 2):\n",
    "    print(\"hike: 5%\")\n",
    "\n",
    "elif employees['architect'] < 2:\n",
    "    print(\"hike: 0%\")\n",
    "\n",
    "else:\n",
    "    print(\"Provide values between 0 and 5\")\n",
    "\n",
    "# Great. Now if we observe, we can see we are considering only the ['architect'] from all the keys that exist.\n",
    "# We have so many keys. But we are operating only on the ['architect'] key. How can we write the same conditions for all the keys in the employees dictionary."
   ]
  },
  {
   "cell_type": "code",
   "execution_count": 5,
   "metadata": {},
   "outputs": [
    {
     "name": "stdout",
     "output_type": "stream",
     "text": [
      "item_1\n",
      "item_2\n",
      "item_3\n",
      "item_4\n",
      "item_5\n",
      "item_6\n",
      "======== SECOND FOR LOOP ========\n",
      "item_1\n",
      "item_2\n",
      "item_3\n",
      "item_4\n",
      "item_5\n",
      "item_6\n"
     ]
    }
   ],
   "source": [
    "# Here comes the concept of loops\n",
    "# Loops are used to write a code once and execute them number of times.\n",
    "\n",
    "# Let us create a list with items, so that we can read through the list using `loops`.\n",
    "items = ['item_1', 'item_2', 'item_3', 'item_4', 'item_5', 'item_6']\n",
    "\n",
    "# This is how we write loops\n",
    "# For item in items, means, we are explaining python by saying \"for each item you see in items (which is a list), do the following operation\".\n",
    "for item in items:\n",
    "    # We are printing the item\n",
    "    print(item)\n",
    "\n",
    "# Here the variable `item` is created by us. We can write any name instead of `item` and the loop will still work.\n",
    "print('======== SECOND FOR LOOP ========')\n",
    "for i in items:\n",
    "    print(i) \n",
    "\n",
    "# You can see the output showing the same as the above one with variable name `item`. \n",
    "# This is because a new variable is created and assigned a new value when ever the loop returned."
   ]
  },
  {
   "attachments": {},
   "cell_type": "markdown",
   "metadata": {},
   "source": [
    "__How do loops work?__<br>\n",
    "Let us break down the statement:\n",
    "* `for` - represents the keyword to start the loop.\n",
    "* `item` - creates a new variable `item` with value `0`.\n",
    "* `in` - looks inside sequence provided.\n",
    "* `items` - this is the sequence that we loop over.\n",
    "\n",
    "Once the loop starts, the `item` variable will take value `0` and the loop will look for `items[0]` and assign it to `item`. So internally `item = items[0]` will be executed. Then it will run the operation provided inside the `for` loop, and assign the value of `item` to `items[1]`. And then goes till the end of the `items` list. \n"
   ]
  }
 ],
 "metadata": {
  "kernelspec": {
   "display_name": "Python 3",
   "language": "python",
   "name": "python3"
  },
  "language_info": {
   "codemirror_mode": {
    "name": "ipython",
    "version": 3
   },
   "file_extension": ".py",
   "mimetype": "text/x-python",
   "name": "python",
   "nbconvert_exporter": "python",
   "pygments_lexer": "ipython3",
   "version": "3.10.4"
  },
  "orig_nbformat": 4,
  "vscode": {
   "interpreter": {
    "hash": "3ad933181bd8a04b432d3370b9dc3b0662ad032c4dfaa4e4f1596c548f763858"
   }
  }
 },
 "nbformat": 4,
 "nbformat_minor": 2
}
