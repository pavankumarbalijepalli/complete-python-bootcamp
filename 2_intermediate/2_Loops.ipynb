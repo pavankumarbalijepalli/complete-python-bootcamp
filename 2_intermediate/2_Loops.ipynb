{
 "cells": [
  {
   "cell_type": "markdown",
   "metadata": {},
   "source": [
    "__In the previous notebook, we have seen `if..else` statements which help in writing customised code, for each condition.__ <br>\n",
    "If we have a condition, we have written code which is executed only for such condition."
   ]
  },
  {
   "cell_type": "markdown",
   "metadata": {},
   "source": [
    "__Let us build a robot which will pick tomatoes from the tomato basket and put it in the freezer__"
   ]
  },
  {
   "cell_type": "code",
   "execution_count": 1,
   "metadata": {},
   "outputs": [],
   "source": [
    "tomatoes_in_basket = 15\n",
    "tomatoes_in_freezer = 0"
   ]
  },
  {
   "cell_type": "markdown",
   "metadata": {},
   "source": [
    "__Robot can only pick one tomato, at a time__\n",
    "* So robot needs to add `1` to `tomatoes_in_freezer` and subtract `1` from `tomatoes_in_basket`\n",
    "* Let us use `if..else` to check if the basket is empty"
   ]
  },
  {
   "cell_type": "code",
   "execution_count": 2,
   "metadata": {},
   "outputs": [
    {
     "name": "stdout",
     "output_type": "stream",
     "text": [
      "Total tomatoes in basket are 14\n",
      "Total tomatoes in freezer are 1\n"
     ]
    }
   ],
   "source": [
    "if tomatoes_in_basket > 0:\n",
    "    tomatoes_in_freezer += 1\n",
    "    tomatoes_in_basket -= 1\n",
    "\n",
    "# This will pick one tomato from the basket and put in the freezer\n",
    "print(\"Total tomatoes in basket are\", tomatoes_in_basket)\n",
    "print(\"Total tomatoes in freezer are\", tomatoes_in_freezer)"
   ]
  },
  {
   "cell_type": "markdown",
   "metadata": {},
   "source": [
    "Now we have sucessfully removed one tomato from basket and put inside freezer. \n",
    "<br>But in-order to do this operation again and again till the basket is empty, we have to run the cell multiple times. "
   ]
  },
  {
   "cell_type": "markdown",
   "metadata": {},
   "source": [
    "__Here comes the concept of while loop__\n",
    "<br>Loops are used to write a code once and execute them multiple times."
   ]
  },
  {
   "cell_type": "code",
   "execution_count": 3,
   "metadata": {},
   "outputs": [
    {
     "name": "stdout",
     "output_type": "stream",
     "text": [
      "== Inside while loop ==\n",
      "Tomatoes in freezer: 1\n",
      "Tomatoes in basket: 14\n",
      "== Inside while loop ==\n",
      "Tomatoes in freezer: 2\n",
      "Tomatoes in basket: 13\n",
      "== Inside while loop ==\n",
      "Tomatoes in freezer: 3\n",
      "Tomatoes in basket: 12\n",
      "== Inside while loop ==\n",
      "Tomatoes in freezer: 4\n",
      "Tomatoes in basket: 11\n",
      "== Inside while loop ==\n",
      "Tomatoes in freezer: 5\n",
      "Tomatoes in basket: 10\n",
      "== Inside while loop ==\n",
      "Tomatoes in freezer: 6\n",
      "Tomatoes in basket: 9\n",
      "== Inside while loop ==\n",
      "Tomatoes in freezer: 7\n",
      "Tomatoes in basket: 8\n",
      "== Inside while loop ==\n",
      "Tomatoes in freezer: 8\n",
      "Tomatoes in basket: 7\n",
      "== Inside while loop ==\n",
      "Tomatoes in freezer: 9\n",
      "Tomatoes in basket: 6\n",
      "== Inside while loop ==\n",
      "Tomatoes in freezer: 10\n",
      "Tomatoes in basket: 5\n",
      "== Inside while loop ==\n",
      "Tomatoes in freezer: 11\n",
      "Tomatoes in basket: 4\n",
      "== Inside while loop ==\n",
      "Tomatoes in freezer: 12\n",
      "Tomatoes in basket: 3\n",
      "== Inside while loop ==\n",
      "Tomatoes in freezer: 13\n",
      "Tomatoes in basket: 2\n",
      "== Inside while loop ==\n",
      "Tomatoes in freezer: 14\n",
      "Tomatoes in basket: 1\n",
      "== Inside while loop ==\n",
      "Tomatoes in freezer: 15\n",
      "Tomatoes in basket: 0\n"
     ]
    }
   ],
   "source": [
    "# Let us create the variables again\n",
    "tomatoes_in_basket = 15\n",
    "tomatoes_in_freezer = 0\n",
    "\n",
    "while tomatoes_in_basket > 0:\n",
    "    print(\"== Inside while loop ==\")\n",
    "    tomatoes_in_freezer += 1\n",
    "    tomatoes_in_basket -= 1\n",
    "    print(\"Tomatoes in freezer:\", tomatoes_in_freezer)\n",
    "    print(\"Tomatoes in basket:\", tomatoes_in_basket)"
   ]
  },
  {
   "cell_type": "markdown",
   "metadata": {},
   "source": [
    "__Yay!__ Now, without needing to run cells multiple times, we can make a robot which picks tomatoes from basket and puts inside the freezer.\n",
    "\n",
    "__But how did it work?__<br>\n",
    "Let us break down the statement:\n",
    "* `while` - represents the keyword to start the loop.\n",
    "* `tomatoes_in_basket` - number which represents a boolean value (0 is `False`, any other number is `True`).\n",
    "\n",
    "Once the loop starts, it will check for the __looping condition__. Looping condition is the condition which will cause the loop to break by going from `True` to `False`.<br>\n",
    "Here that condition is `tomatoes_in_basket > 0`. If the looping condition returns True, the loop will continue, If the looping condition returns False, the loop will `break`.\n",
    "\n",
    "Now that we've mentioned `break`, lets talk about `break` statement.\n",
    "\n",
    "*P.S: If the condition will not reach `False`, the loop will continue forever.*"
   ]
  },
  {
   "cell_type": "markdown",
   "metadata": {
    "tags": []
   },
   "source": [
    "__`Break` statement is used to break the loop without the help of looping condition. Look at the code below.__"
   ]
  },
  {
   "cell_type": "code",
   "execution_count": 4,
   "metadata": {},
   "outputs": [
    {
     "name": "stdout",
     "output_type": "stream",
     "text": [
      "15\n",
      "14\n",
      "13\n",
      "12\n",
      "\n",
      "11  is the value of tomatoes_in_basket, after loop\n"
     ]
    }
   ],
   "source": [
    "tomatoes_in_basket = 15\n",
    "while tomatoes_in_basket > 0:\n",
    "    print(tomatoes_in_basket)\n",
    "    tomatoes_in_basket -= 1\n",
    "    if tomatoes_in_basket == 11:\n",
    "        break\n",
    "print()\n",
    "print(tomatoes_in_basket, \" is the value of tomatoes_in_basket, after loop\")"
   ]
  },
  {
   "cell_type": "markdown",
   "metadata": {},
   "source": [
    "We see, even though the \"looping condition\" is `tomatoes_in_basket > 0`, the loop broke before. \n",
    "* This is because of the `break` statement.\n",
    "* We have instructed the code to `break` the loop, when ever the value of `tomatoes_in_basket` reaches `11`.\n",
    "* So, when we started reducing `tomatoes_in_basket` from `15` to `0`, when we reached `11`, the loop broke.\n",
    "* Due to this, the existing value of `tomatoes_in_basket`, will be `11`, because the loop broke after this."
   ]
  },
  {
   "cell_type": "markdown",
   "metadata": {},
   "source": [
    "__Just like `while` loop, we also have another looping statement which works very similar to this. It is `For` loop.__"
   ]
  },
  {
   "cell_type": "code",
   "execution_count": null,
   "metadata": {},
   "outputs": [],
   "source": []
  }
 ],
 "metadata": {
  "kernelspec": {
   "display_name": "Python 3 (ipykernel)",
   "language": "python",
   "name": "python3"
  },
  "language_info": {
   "codemirror_mode": {
    "name": "ipython",
    "version": 3
   },
   "file_extension": ".py",
   "mimetype": "text/x-python",
   "name": "python",
   "nbconvert_exporter": "python",
   "pygments_lexer": "ipython3",
   "version": "3.10.8"
  },
  "vscode": {
   "interpreter": {
    "hash": "3ad933181bd8a04b432d3370b9dc3b0662ad032c4dfaa4e4f1596c548f763858"
   }
  }
 },
 "nbformat": 4,
 "nbformat_minor": 4
}
