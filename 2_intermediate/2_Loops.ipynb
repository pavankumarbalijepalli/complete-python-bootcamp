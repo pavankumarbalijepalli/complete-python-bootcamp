{
 "cells": [
  {
   "cell_type": "markdown",
   "metadata": {},
   "source": [
    "__In the previous notebook, we have seen `if..else` statements which help in writing customised code, for each condition.__ <br>\n",
    "If we have a condition, we have written code which is executed only for such condition."
   ]
  },
  {
   "cell_type": "code",
   "execution_count": 1,
   "metadata": {},
   "outputs": [],
   "source": [
    "# Let us build a robot which will pick tomatoes from the tomato basket and put it in the freezer\n",
    "tomatoes_in_basket = 15\n",
    "tomatoes_in_freezer = 0"
   ]
  },
  {
   "cell_type": "code",
   "execution_count": 2,
   "metadata": {},
   "outputs": [
    {
     "name": "stdout",
     "output_type": "stream",
     "text": [
      "Total tomatoes in basket are 14\n",
      "Total tomatoes in freezer are 1\n"
     ]
    }
   ],
   "source": [
    "# Robot can only pick one tomato, at a time\n",
    "# So robot needs to add `1` to `tomatoes_in_freezer` and subtract `1` from `tomatoes_in_basket`\n",
    "# Let us use `if..else` to check if the basket is empty\n",
    "if tomatoes_in_basket > 0:\n",
    "    tomatoes_in_freezer += 1\n",
    "    tomatoes_in_basket -= 1\n",
    "\n",
    "# This will pick one tomato from the basket and put in the freezer\n",
    "print(\"Total tomatoes in basket are\", tomatoes_in_basket)\n",
    "print(\"Total tomatoes in freezer are\", tomatoes_in_freezer)"
   ]
  },
  {
   "cell_type": "markdown",
   "metadata": {},
   "source": [
    "Now we have sucessfully removed one tomato from basket and put inside freezer. \n",
    "<br>But in-order to do this operation again and again till the basket is empty, we have to run the cell multiple times. "
   ]
  },
  {
   "cell_type": "code",
   "execution_count": 3,
   "metadata": {},
   "outputs": [
    {
     "name": "stdout",
     "output_type": "stream",
     "text": [
      "== Inside while loop ==\n",
      "Tomatoes in freezer: 1\n",
      "Tomatoes in basket: 14\n",
      "== Inside while loop ==\n",
      "Tomatoes in freezer: 2\n",
      "Tomatoes in basket: 13\n",
      "== Inside while loop ==\n",
      "Tomatoes in freezer: 3\n",
      "Tomatoes in basket: 12\n",
      "== Inside while loop ==\n",
      "Tomatoes in freezer: 4\n",
      "Tomatoes in basket: 11\n",
      "== Inside while loop ==\n",
      "Tomatoes in freezer: 5\n",
      "Tomatoes in basket: 10\n",
      "== Inside while loop ==\n",
      "Tomatoes in freezer: 6\n",
      "Tomatoes in basket: 9\n",
      "== Inside while loop ==\n",
      "Tomatoes in freezer: 7\n",
      "Tomatoes in basket: 8\n",
      "== Inside while loop ==\n",
      "Tomatoes in freezer: 8\n",
      "Tomatoes in basket: 7\n",
      "== Inside while loop ==\n",
      "Tomatoes in freezer: 9\n",
      "Tomatoes in basket: 6\n",
      "== Inside while loop ==\n",
      "Tomatoes in freezer: 10\n",
      "Tomatoes in basket: 5\n",
      "== Inside while loop ==\n",
      "Tomatoes in freezer: 11\n",
      "Tomatoes in basket: 4\n",
      "== Inside while loop ==\n",
      "Tomatoes in freezer: 12\n",
      "Tomatoes in basket: 3\n",
      "== Inside while loop ==\n",
      "Tomatoes in freezer: 13\n",
      "Tomatoes in basket: 2\n",
      "== Inside while loop ==\n",
      "Tomatoes in freezer: 14\n",
      "Tomatoes in basket: 1\n",
      "== Inside while loop ==\n",
      "Tomatoes in freezer: 15\n",
      "Tomatoes in basket: 0\n"
     ]
    }
   ],
   "source": [
    "# Here comes the concept of loops\n",
    "# Loops are used to write a code once and execute them number of times.\n",
    "\n",
    "# Let us create the variables again\n",
    "tomatoes_in_basket = 15\n",
    "tomatoes_in_freezer = 0\n",
    "\n",
    "while tomatoes_in_basket > 0:\n",
    "    print(\"== Inside while loop ==\")\n",
    "    tomatoes_in_freezer += 1\n",
    "    tomatoes_in_basket -= 1\n",
    "    print(\"Tomatoes in freezer:\", tomatoes_in_freezer)\n",
    "    print(\"Tomatoes in basket:\", tomatoes_in_basket)"
   ]
  },
  {
   "cell_type": "markdown",
   "metadata": {},
   "source": [
    "__Yay!__ Now, without needing to run cells multiple times, we can make a robot which picks tomatoes from basket and puts inside the freezer.\n",
    "\n",
    "__But how did it work?__<br>\n",
    "Let us break down the statement:\n",
    "* `while` - represents the keyword to start the loop.\n",
    "* `tomatoes_in_basket` - number which represents a boolean value (0 is `False`, any other number is `True`).\n",
    "\n",
    "Once the loop starts, it will check for the __looping condition__. Looping condition is the condition which will cause the loop to break by going from `True` to `False`.<br>\n",
    "Here that condition is `tomatoes_in_basket > 0`. If the looping condition returns True, the loop will continue.\n",
    "\n",
    "*P.S: If the condition will not reach `False`, the loop will continue forever.*"
   ]
  },
  {
   "cell_type": "code",
   "execution_count": 1,
   "metadata": {},
   "outputs": [
    {
     "ename": "SyntaxError",
     "evalue": "invalid syntax (3639377211.py, line 2)",
     "output_type": "error",
     "traceback": [
      "\u001b[0;36m  Cell \u001b[0;32mIn[1], line 2\u001b[0;36m\u001b[0m\n\u001b[0;31m    for  in items:\u001b[0m\n\u001b[0m         ^\u001b[0m\n\u001b[0;31mSyntaxError\u001b[0m\u001b[0;31m:\u001b[0m invalid syntax\n"
     ]
    }
   ],
   "source": [
    "# Try out a for loop\n",
    "numbers = [1, 2, 3, 4, 5, 6, 7, 8, 9]\n",
    "# Write a for loop to "
   ]
  },
  {
   "cell_type": "code",
   "execution_count": null,
   "metadata": {},
   "outputs": [],
   "source": []
  }
 ],
 "metadata": {
  "kernelspec": {
   "display_name": "Python 3 (ipykernel)",
   "language": "python",
   "name": "python3"
  },
  "language_info": {
   "codemirror_mode": {
    "name": "ipython",
    "version": 3
   },
   "file_extension": ".py",
   "mimetype": "text/x-python",
   "name": "python",
   "nbconvert_exporter": "python",
   "pygments_lexer": "ipython3",
   "version": "3.10.8"
  },
  "vscode": {
   "interpreter": {
    "hash": "3ad933181bd8a04b432d3370b9dc3b0662ad032c4dfaa4e4f1596c548f763858"
   }
  }
 },
 "nbformat": 4,
 "nbformat_minor": 4
}
