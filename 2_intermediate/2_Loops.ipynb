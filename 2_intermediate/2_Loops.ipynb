{
 "cells": [
  {
   "attachments": {},
   "cell_type": "markdown",
   "metadata": {},
   "source": [
    "__In the previous notebook, we have seen `if..else` statements which help in writing customised code, for each condition.__ <br>\n",
    "If we have a condition, we have written code which is executed only for such condition."
   ]
  },
  {
   "cell_type": "code",
   "execution_count": 6,
   "metadata": {},
   "outputs": [],
   "source": [
    "# Let us build a robot which will pick tomatoes from the tomato basket and put it in the freezer\n",
    "tomatoes_in_basket = 15\n",
    "tomatoes_in_freezer = 0"
   ]
  },
  {
   "cell_type": "code",
   "execution_count": 7,
   "metadata": {},
   "outputs": [
    {
     "name": "stdout",
     "output_type": "stream",
     "text": [
      "Total tomatoes in basket are 14\n",
      "Total tomatoes in freezer are 1\n"
     ]
    }
   ],
   "source": [
    "# Robot can only pick one tomato, at a time\n",
    "# So robot needs to add `1` to `tomatoes_in_freezer` and subtract `1` from `tomatoes_in_basket`\n",
    "# Let us use `if..else` to check if the basket is empty\n",
    "if tomatoes_in_basket > 0:\n",
    "    tomatoes_in_freezer += 1\n",
    "    tomatoes_in_basket -= 1\n",
    "\n",
    "# This will pick one tomato from the basket and put in the freezer\n",
    "print(\"Total tomatoes in basket are\", tomatoes_in_basket)\n",
    "print(\"Total tomatoes in freezer are\", tomatoes_in_freezer)"
   ]
  },
  {
   "attachments": {},
   "cell_type": "markdown",
   "metadata": {},
   "source": [
    "Now we have sucessfully removed one tomato from basket and put inside freezer. \n",
    "<br>But in-order to do this operation again and again till the basket is empty, we have to run the cell multiple times. "
   ]
  },
  {
   "cell_type": "code",
   "execution_count": 5,
   "metadata": {},
   "outputs": [
    {
     "name": "stdout",
     "output_type": "stream",
     "text": [
      "item_1\n",
      "item_2\n",
      "item_3\n",
      "item_4\n",
      "item_5\n",
      "item_6\n",
      "======== SECOND FOR LOOP ========\n",
      "item_1\n",
      "item_2\n",
      "item_3\n",
      "item_4\n",
      "item_5\n",
      "item_6\n"
     ]
    }
   ],
   "source": [
    "# Here comes the concept of loops\n",
    "# Loops are used to write a code once and execute them number of times.\n",
    "\n",
    "# Let us create a list with items, so that we can read through the list using `loops`.\n",
    "items = ['item_1', 'item_2', 'item_3', 'item_4', 'item_5', 'item_6']\n",
    "\n",
    "# This is how we write loops\n",
    "# For item in items, means, we are explaining python by saying \"for each item you see in items (which is a list), do the following operation\".\n",
    "for item in items:\n",
    "    # We are printing the item\n",
    "    print(item)\n",
    "\n",
    "# Here the variable `item` is created by us. We can write any name instead of `item` and the loop will still work.\n",
    "print('======== SECOND FOR LOOP ========')\n",
    "for i in items:\n",
    "    print(i) \n",
    "\n",
    "# You can see the output showing the same as the above one with variable name `item`. \n",
    "# This is because a new variable is created and assigned a new value when ever the loop returned."
   ]
  },
  {
   "attachments": {},
   "cell_type": "markdown",
   "metadata": {},
   "source": [
    "__How do loops work?__<br>\n",
    "Let us break down the statement:\n",
    "* `for` - represents the keyword to start the loop.\n",
    "* `item` - creates a new variable `item` with value `0`.\n",
    "* `in` - looks inside sequence provided.\n",
    "* `items` - this is the sequence that we loop over.\n",
    "\n",
    "Once the loop starts, the `item` variable will take value `0` and the loop will look for `items[0]` and assign it to `item`. So internally `item = items[0]` will be executed. Then it will run the operation provided inside the `for` loop, and assign the value of `item` to `items[1]`. And then goes till the end of the `items` list. At the end of `items`, the loop will exit and continue running the code outside the loop, like the `print('======== SECOND FOR LOOP ========')` statement. \n"
   ]
  },
  {
   "cell_type": "code",
   "execution_count": 1,
   "metadata": {},
   "outputs": [
    {
     "ename": "SyntaxError",
     "evalue": "invalid syntax (3639377211.py, line 2)",
     "output_type": "error",
     "traceback": [
      "\u001b[0;36m  Cell \u001b[0;32mIn[1], line 2\u001b[0;36m\u001b[0m\n\u001b[0;31m    for  in items:\u001b[0m\n\u001b[0m         ^\u001b[0m\n\u001b[0;31mSyntaxError\u001b[0m\u001b[0;31m:\u001b[0m invalid syntax\n"
     ]
    }
   ],
   "source": [
    "# Try out a for loop\n",
    "numbers = [1, 2, 3, 4, 5, 6, 7, 8, 9]\n",
    "# Write a for loop to "
   ]
  },
  {
   "cell_type": "code",
   "execution_count": null,
   "metadata": {},
   "outputs": [],
   "source": []
  }
 ],
 "metadata": {
  "kernelspec": {
   "display_name": "Python 3",
   "language": "python",
   "name": "python3"
  },
  "language_info": {
   "codemirror_mode": {
    "name": "ipython",
    "version": 3
   },
   "file_extension": ".py",
   "mimetype": "text/x-python",
   "name": "python",
   "nbconvert_exporter": "python",
   "pygments_lexer": "ipython3",
   "version": "3.10.4"
  },
  "orig_nbformat": 4,
  "vscode": {
   "interpreter": {
    "hash": "3ad933181bd8a04b432d3370b9dc3b0662ad032c4dfaa4e4f1596c548f763858"
   }
  }
 },
 "nbformat": 4,
 "nbformat_minor": 2
}
