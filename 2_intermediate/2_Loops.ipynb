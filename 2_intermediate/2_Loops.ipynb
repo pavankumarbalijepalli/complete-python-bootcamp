{
 "cells": [
  {
   "cell_type": "markdown",
   "metadata": {},
   "source": [
    "__In the previous notebook, we have seen `if..else` statements which help in writing customised code, for each condition.__ <br>\n",
    "If we have a condition, we have written code which is executed only for such condition."
   ]
  },
  {
   "cell_type": "markdown",
   "metadata": {},
   "source": [
    "__Let us build a robot which will pick tomatoes from the tomato basket and put it in the freezer__"
   ]
  },
  {
   "cell_type": "code",
   "execution_count": null,
   "metadata": {},
   "outputs": [],
   "source": [
    "tomatoes_in_basket = 15\n",
    "tomatoes_in_freezer = 0"
   ]
  },
  {
   "cell_type": "markdown",
   "metadata": {},
   "source": [
    "__Robot can only pick one tomato, at a time__\n",
    "* So robot needs to add `1` to `tomatoes_in_freezer` and subtract `1` from `tomatoes_in_basket`\n",
    "* Let us use `if..else` to check if the basket is empty"
   ]
  },
  {
   "cell_type": "code",
   "execution_count": null,
   "metadata": {},
   "outputs": [],
   "source": [
    "if tomatoes_in_basket > 0:\n",
    "    tomatoes_in_freezer += 1\n",
    "    tomatoes_in_basket -= 1\n",
    "\n",
    "# This will pick one tomato from the basket and put in the freezer\n",
    "print(\"Total tomatoes in basket are\", tomatoes_in_basket)\n",
    "print(\"Total tomatoes in freezer are\", tomatoes_in_freezer)"
   ]
  },
  {
   "cell_type": "markdown",
   "metadata": {},
   "source": [
    "Now we have sucessfully removed one tomato from basket and put inside freezer. \n",
    "<br>But in-order to do this operation again and again till the basket is empty, we have to run the cell multiple times. "
   ]
  },
  {
   "cell_type": "markdown",
   "metadata": {},
   "source": [
    "__Here comes the concept of while loop__\n",
    "<br>Loops are used to write a code once and execute them multiple times."
   ]
  },
  {
   "cell_type": "code",
   "execution_count": null,
   "metadata": {},
   "outputs": [],
   "source": [
    "# Let us create the variables again\n",
    "tomatoes_in_basket = 15\n",
    "tomatoes_in_freezer = 0\n",
    "\n",
    "while tomatoes_in_basket > 0:\n",
    "    print(\"== Inside while loop ==\")\n",
    "    tomatoes_in_freezer += 1\n",
    "    tomatoes_in_basket -= 1\n",
    "    print(\"Tomatoes in freezer:\", tomatoes_in_freezer)\n",
    "    print(\"Tomatoes in basket:\", tomatoes_in_basket)"
   ]
  },
  {
   "cell_type": "markdown",
   "metadata": {},
   "source": [
    "__Yay!__ Now, without needing to run cells multiple times, we can make a robot which picks tomatoes from basket and puts inside the freezer.\n",
    "\n",
    "__But how did it work?__<br>\n",
    "Let us break down the statement:\n",
    "* `while` - represents the keyword to start the loop.\n",
    "* `tomatoes_in_basket` - number which represents a boolean value (0 is `False`, any other number is `True`).\n",
    "\n",
    "Once the loop starts, it will check for the __looping condition__. Looping condition is the condition which will cause the loop to break by going from `True` to `False`.<br>\n",
    "Here that condition is `tomatoes_in_basket > 0`. If the looping condition returns True, the loop will continue, If the looping condition returns False, the loop will `break`.\n",
    "\n",
    "Now that we've mentioned `break`, lets talk about `break` statement.\n",
    "\n",
    "*P.S: If the condition will not reach `False`, the loop will continue forever.*"
   ]
  },
  {
   "cell_type": "markdown",
   "metadata": {
    "tags": []
   },
   "source": [
    "__`Break` statement is used to break the loop without the help of looping condition. Look at the code below.__"
   ]
  },
  {
   "cell_type": "code",
   "execution_count": null,
   "metadata": {},
   "outputs": [],
   "source": [
    "tomatoes_in_basket = 15\n",
    "while tomatoes_in_basket > 0:\n",
    "    print(tomatoes_in_basket)\n",
    "    tomatoes_in_basket -= 1\n",
    "    if tomatoes_in_basket == 11:\n",
    "        break\n",
    "print()\n",
    "print(tomatoes_in_basket, \" is the value of tomatoes_in_basket, after loop\")"
   ]
  },
  {
   "cell_type": "markdown",
   "metadata": {},
   "source": [
    "We see, even though the \"looping condition\" is `tomatoes_in_basket > 0`, the loop broke before. \n",
    "* This is because of the `break` statement.\n",
    "* We have instructed the code to `break` the loop, when ever the value of `tomatoes_in_basket` reaches `11`.\n",
    "* So, when we started reducing `tomatoes_in_basket` from `15` to `0`, when we reached `11`, the loop broke.\n",
    "* Due to this, the existing value of `tomatoes_in_basket`, will be `11`, because the loop broke after this."
   ]
  },
  {
   "cell_type": "markdown",
   "metadata": {},
   "source": [
    "---\n",
    "__Just like `while` loop, we also have another looping statement which works very similar to this. It is `For` loop.__\n",
    "* Why do we need `for` loop? Since it is easy to loop for `n` number of times using `while` loop. It is not very easy to loop over a list or tuple using `while` loop. \n",
    "* `for` loops help travsering through list way easier than implementing it using `while` loop.\n",
    "* This is because in while loop, we are modifying the number to reach the looping condition. If we are to use `while` loop with lists, we need to modify list.\n",
    "* With `for` loops we don't need to do that. Let us see an example."
   ]
  },
  {
   "cell_type": "code",
   "execution_count": null,
   "metadata": {},
   "outputs": [],
   "source": [
    "person_list = ['person_1', 'person_2', 'person_3', 'person_4', 'person_5', 'person_6', 'person_7']\n",
    "\n",
    "# Syntax of `for` loop\n",
    "for person in person_list:\n",
    "    print(person)"
   ]
  },
  {
   "cell_type": "markdown",
   "metadata": {},
   "source": [
    "We see we have a variable called `person` which is not initialised anywhere. That is a variable created in the loop which represents a value inside the `person_list`.<br>This value will go from `'person_1'` to `'person_7'` while looping over.\n",
    "\n",
    "We can use any other variable name for this. \n",
    "__Try re-naming `person` with `i` in the following code and see it work just like the same.__"
   ]
  },
  {
   "cell_type": "code",
   "execution_count": null,
   "metadata": {},
   "outputs": [],
   "source": [
    "for person in person_list:\n",
    "    print(person)"
   ]
  },
  {
   "cell_type": "markdown",
   "metadata": {},
   "source": [
    "There is another statement that we should discuss, which will close the concept of loops. It is <strong>`continue`</strong>, which is similar to `break` but does the opposite. Let's see that in an example"
   ]
  },
  {
   "cell_type": "code",
   "execution_count": null,
   "metadata": {},
   "outputs": [],
   "source": [
    "for person in person_list:\n",
    "    if person == 'person_3':\n",
    "        continue\n",
    "    print(person)"
   ]
  },
  {
   "cell_type": "markdown",
   "metadata": {},
   "source": [
    "See what happened? We skipped the loop under condition.\n",
    "* The loop checked for the condition after entering into the code. \n",
    "* If the condition is true it will `continue` to next loop iteration without executing the code below.'\n",
    "* All the code above the `continue` will still be executed.\n",
    "Another example where there is code above the `continue` statement"
   ]
  },
  {
   "cell_type": "code",
   "execution_count": null,
   "metadata": {},
   "outputs": [],
   "source": [
    "for person in person_list:\n",
    "    print(1)\n",
    "    if person == 'person_3':\n",
    "        continue\n",
    "    print(person)"
   ]
  },
  {
   "cell_type": "markdown",
   "metadata": {},
   "source": [
    "We see an extra `1` between `person_2` and `person_4`. That is the `1` printed before the continue statement where `person` is `'person_3'`"
   ]
  },
  {
   "cell_type": "markdown",
   "metadata": {},
   "source": [
    "__Finally, we're at the end of loops. But this is where we start using them in our tutorials and example code. Do not worry if you don't understand everything. Drop your doubts are issues in the repository. I will make sure to respond to them and clarify things.__<br>Or you can be a real programmer and start googling your errors and doubts. It's better to learn from doing. "
   ]
  },
  {
   "cell_type": "markdown",
   "metadata": {},
   "source": [
    "__*Till then Happy Coding*__"
   ]
  }
 ],
 "metadata": {
  "kernelspec": {
   "display_name": "Python 3 (ipykernel)",
   "language": "python",
   "name": "python3"
  },
  "language_info": {
   "codemirror_mode": {
    "name": "ipython",
    "version": 3
   },
   "file_extension": ".py",
   "mimetype": "text/x-python",
   "name": "python",
   "nbconvert_exporter": "python",
   "pygments_lexer": "ipython3",
   "version": "3.10.8"
  },
  "vscode": {
   "interpreter": {
    "hash": "3ad933181bd8a04b432d3370b9dc3b0662ad032c4dfaa4e4f1596c548f763858"
   }
  }
 },
 "nbformat": 4,
 "nbformat_minor": 4
}
