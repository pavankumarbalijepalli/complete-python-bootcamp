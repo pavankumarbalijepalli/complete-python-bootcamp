{
 "cells": [
  {
   "cell_type": "code",
   "execution_count": 1,
   "id": "fc8655ee-9994-4a82-a4d1-4e670a8edbd5",
   "metadata": {},
   "outputs": [
    {
     "name": "stdin",
     "output_type": "stream",
     "text": [
      "Enter value for `a`\n",
      " 100\n"
     ]
    }
   ],
   "source": [
    "# Till now we have always defined variables with one pre-defined value. \n",
    "# Let us see an example how to ask the user for a value\n",
    "a = input('Enter value for `a`\\n')\n",
    "# Try running this cell. It will ask you to give a value for `a`\n",
    "# Enter any number and run the next cell."
   ]
  },
  {
   "cell_type": "code",
   "execution_count": 2,
   "id": "e71dd46f-ea0a-4b57-8e82-2bcf35f2ad44",
   "metadata": {},
   "outputs": [
    {
     "data": {
      "text/plain": [
       "'100'"
      ]
     },
     "execution_count": 2,
     "metadata": {},
     "output_type": "execute_result"
    }
   ],
   "source": [
    "a"
   ]
  },
  {
   "cell_type": "code",
   "execution_count": 3,
   "id": "2f6981c8-1371-4e74-8446-b01ff27ca036",
   "metadata": {},
   "outputs": [
    {
     "data": {
      "text/plain": [
       "100"
      ]
     },
     "execution_count": 3,
     "metadata": {},
     "output_type": "execute_result"
    }
   ],
   "source": [
    "# As you can see, the number is stored as a string.\n",
    "# This is because, any value that is given in the `input` will be considered as a string.\n",
    "# In order to convert it into an integer value, we need to use `int()` function.\n",
    "int(a)\n",
    "# Now you can see the value of `a` is converted to integer"
   ]
  },
  {
   "cell_type": "code",
   "execution_count": 4,
   "id": "5a8a876b-751c-478c-8bcb-5255b12a331f",
   "metadata": {},
   "outputs": [],
   "source": [
    "# if you're working for a web development project or data science project, there is very very less chance that you might use input() function.\n",
    "# But it is mandatory to know what python has to offer."
   ]
  },
  {
   "cell_type": "markdown",
   "id": "b53c41b3-312e-46b9-a430-3dc206df7750",
   "metadata": {},
   "source": [
    "__With this, Python Basics tutorial is completed.__<br>\n",
    "Let us have a notebook for self-evalutation which help you understand if you're confused in any topics.  "
   ]
  }
 ],
 "metadata": {
  "kernelspec": {
   "display_name": "Python 3 (ipykernel)",
   "language": "python",
   "name": "python3"
  },
  "language_info": {
   "codemirror_mode": {
    "name": "ipython",
    "version": 3
   },
   "file_extension": ".py",
   "mimetype": "text/x-python",
   "name": "python",
   "nbconvert_exporter": "python",
   "pygments_lexer": "ipython3",
   "version": "3.10.8"
  }
 },
 "nbformat": 4,
 "nbformat_minor": 5
}
