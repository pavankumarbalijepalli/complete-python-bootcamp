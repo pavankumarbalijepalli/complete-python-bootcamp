{
 "cells": [
  {
   "cell_type": "markdown",
   "id": "588c31c9",
   "metadata": {},
   "source": [
    "__We have seen `sets` to store our data. How let us see another way of storing data, using `dictionary`.__\n",
    "\n",
    "Dictionaries are different from what we have seen previously. Dictionaries does not save data in form of list. If you observe, `list`, `tuple`, and `set` stores data in form of a sequential list of items. But dictionaries are different. Let's see how they are different."
   ]
  },
  {
   "cell_type": "code",
   "execution_count": 1,
   "id": "91a3d808-9978-46e7-87c0-7eb6fdd055d6",
   "metadata": {},
   "outputs": [
    {
     "data": {
      "text/plain": [
       "{'category': 'beverage', 'brand': 'cocacola', 'temperature': 'hot'}"
      ]
     },
     "execution_count": 1,
     "metadata": {},
     "output_type": "execute_result"
    }
   ],
   "source": [
    "my_dict = {'category': 'beverage', 'brand': 'cocacola', 'temperature': 'hot'}\n",
    "my_dict"
   ]
  },
  {
   "cell_type": "markdown",
   "id": "a6bbe389-d6c1-426f-8f99-6d8fb0acd11b",
   "metadata": {},
   "source": [
    "Here the values `('category', 'brand', 'temperature')` are called `keys`. Keys must be unique. Each key will have a `value`. Here values are `('beverage', 'cocacola', 'hot')`"
   ]
  },
  {
   "cell_type": "code",
   "execution_count": 2,
   "id": "651887c4-566a-4b71-8ad5-2b8993c51a73",
   "metadata": {},
   "outputs": [
    {
     "data": {
      "text/plain": [
       "dict_keys(['category', 'brand', 'temperature'])"
      ]
     },
     "execution_count": 2,
     "metadata": {},
     "output_type": "execute_result"
    }
   ],
   "source": [
    "# Get all the keys in dictionary\n",
    "my_dict.keys()"
   ]
  },
  {
   "cell_type": "code",
   "execution_count": 3,
   "id": "cd024ca9-a34b-46c6-95de-b8f64511e3a1",
   "metadata": {},
   "outputs": [
    {
     "data": {
      "text/plain": [
       "dict_values(['beverage', 'cocacola', 'hot'])"
      ]
     },
     "execution_count": 3,
     "metadata": {},
     "output_type": "execute_result"
    }
   ],
   "source": [
    "# Get all the values in dictionary\n",
    "my_dict.values()"
   ]
  },
  {
   "cell_type": "code",
   "execution_count": 4,
   "id": "f71445d9-ceb4-4884-a862-cfd942c0ad9a",
   "metadata": {},
   "outputs": [
    {
     "data": {
      "text/plain": [
       "3"
      ]
     },
     "execution_count": 4,
     "metadata": {},
     "output_type": "execute_result"
    }
   ],
   "source": [
    "# Get length of the dictionary\n",
    "len(my_dict)"
   ]
  },
  {
   "cell_type": "code",
   "execution_count": 5,
   "id": "3ab2646b-d120-4302-b285-568f96f07066",
   "metadata": {},
   "outputs": [
    {
     "data": {
      "text/plain": [
       "{'category': 'beverage',\n",
       " 'brand': 'cocacola',\n",
       " 'temperature': 'hot',\n",
       " 'new_key': 'new_value'}"
      ]
     },
     "execution_count": 5,
     "metadata": {},
     "output_type": "execute_result"
    }
   ],
   "source": [
    "# We can add new keys to dictionary\n",
    "my_dict['new_key'] = 'new_value'\n",
    "my_dict"
   ]
  },
  {
   "cell_type": "code",
   "execution_count": 6,
   "id": "9d5b1d00-0621-442b-9a86-43f9a67f1f7c",
   "metadata": {},
   "outputs": [
    {
     "data": {
      "text/plain": [
       "{'category': 'beverage',\n",
       " 'brand': 'cocacola',\n",
       " 'temperature': 'hot',\n",
       " 'new_key': 'new_value',\n",
       " 'list_key': ['item_1', 'item_2', 'item_3', 'item_4']}"
      ]
     },
     "execution_count": 6,
     "metadata": {},
     "output_type": "execute_result"
    }
   ],
   "source": [
    "# Values can be of any datatype\n",
    "my_dict['list_key'] = ['item_1', 'item_2', 'item_3', 'item_4']\n",
    "my_dict"
   ]
  },
  {
   "cell_type": "code",
   "execution_count": 8,
   "id": "fa4fca07-ed1a-47b5-a9b3-019af3bd227e",
   "metadata": {},
   "outputs": [
    {
     "data": {
      "text/plain": [
       "{'name': 'my_name', 'age': 12, 'country': 'india'}"
      ]
     },
     "execution_count": 8,
     "metadata": {},
     "output_type": "execute_result"
    }
   ],
   "source": [
    "# Create dictionary using dict() function\n",
    "new_dict = dict(name = 'my_name', age = 12, country = 'india')\n",
    "new_dict"
   ]
  },
  {
   "cell_type": "code",
   "execution_count": 10,
   "id": "c87576f7-b515-4728-95ea-a0fd9106c387",
   "metadata": {},
   "outputs": [
    {
     "data": {
      "text/plain": [
       "('cocacola', ['item_1', 'item_2', 'item_3', 'item_4'])"
      ]
     },
     "execution_count": 10,
     "metadata": {},
     "output_type": "execute_result"
    }
   ],
   "source": [
    "# You can access the value of a key using its key value\n",
    "my_dict['brand'], my_dict['list_key']"
   ]
  },
  {
   "cell_type": "code",
   "execution_count": null,
   "id": "34a08bbc-e0e4-448d-a5f4-c1d59eb83f63",
   "metadata": {},
   "outputs": [],
   "source": []
  },
  {
   "cell_type": "code",
   "execution_count": null,
   "id": "9ea48082-b6b4-4650-b9c0-807771d2d666",
   "metadata": {},
   "outputs": [],
   "source": []
  }
 ],
 "metadata": {
  "kernelspec": {
   "display_name": "Python 3 (ipykernel)",
   "language": "python",
   "name": "python3"
  },
  "language_info": {
   "codemirror_mode": {
    "name": "ipython",
    "version": 3
   },
   "file_extension": ".py",
   "mimetype": "text/x-python",
   "name": "python",
   "nbconvert_exporter": "python",
   "pygments_lexer": "ipython3",
   "version": "3.10.8"
  }
 },
 "nbformat": 4,
 "nbformat_minor": 5
}
