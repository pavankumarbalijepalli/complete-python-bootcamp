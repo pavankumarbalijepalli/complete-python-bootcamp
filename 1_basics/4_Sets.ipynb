{
 "cells": [
  {
   "cell_type": "markdown",
   "id": "407e4d00-7f83-4831-8965-110527e1a196",
   "metadata": {},
   "source": [
    "__We have seen `tuples` to store our data. How let us see another way of storing data, using `sets`.__"
   ]
  },
  {
   "cell_type": "code",
   "execution_count": 1,
   "id": "77a94f14-d1e4-45bf-bd83-d63cccc51a17",
   "metadata": {},
   "outputs": [
    {
     "data": {
      "text/plain": [
       "{'Krishna', 'Likith', 'Praveen'}"
      ]
     },
     "execution_count": 1,
     "metadata": {},
     "output_type": "execute_result"
    }
   ],
   "source": [
    "# Creating a set\n",
    "new_set = {'Krishna', 'Praveen', 'Likith'}\n",
    "new_set"
   ]
  },
  {
   "cell_type": "code",
   "execution_count": 2,
   "id": "c1390612-7a68-4662-bd5c-4203b9e8bd73",
   "metadata": {},
   "outputs": [
    {
     "data": {
      "text/plain": [
       "{'Krishna', 'Likith', 'Praveen'}"
      ]
     },
     "execution_count": 2,
     "metadata": {},
     "output_type": "execute_result"
    }
   ],
   "source": [
    "# Set does not allow duplicates\n",
    "new_set = {'Krishna', 'Praveen', 'Likith', 'Krishna'}\n",
    "new_set"
   ]
  },
  {
   "cell_type": "code",
   "execution_count": 3,
   "id": "a7200e36-9d37-4a53-81be-c8efdcb1648a",
   "metadata": {},
   "outputs": [
    {
     "data": {
      "text/plain": [
       "3"
      ]
     },
     "execution_count": 3,
     "metadata": {},
     "output_type": "execute_result"
    }
   ],
   "source": [
    "# Length of a set\n",
    "len(new_set)"
   ]
  },
  {
   "cell_type": "code",
   "execution_count": 4,
   "id": "f1530dac-7586-4c13-8fd4-567def4a97eb",
   "metadata": {},
   "outputs": [
    {
     "data": {
      "text/plain": [
       "set"
      ]
     },
     "execution_count": 4,
     "metadata": {},
     "output_type": "execute_result"
    }
   ],
   "source": [
    "# Type\n",
    "type(new_set)"
   ]
  },
  {
   "cell_type": "code",
   "execution_count": 5,
   "id": "009962d8-6b8e-4611-9fca-927d4d033919",
   "metadata": {},
   "outputs": [
    {
     "data": {
      "text/plain": [
       "{'Krishna', 'Likith', 'Praveen'}"
      ]
     },
     "execution_count": 5,
     "metadata": {},
     "output_type": "execute_result"
    }
   ],
   "source": [
    "# Creating a set from a list\n",
    "my_list = ['Krishna', 'Praveen', 'Likith']\n",
    "my_set = set(my_list)\n",
    "my_set"
   ]
  },
  {
   "cell_type": "code",
   "execution_count": 6,
   "id": "661b0ff1-a576-42c1-8f83-86729a3ca834",
   "metadata": {},
   "outputs": [],
   "source": [
    "# You cannot change items in set, \n",
    "# you can add more items but you cannot change the existing ones"
   ]
  },
  {
   "cell_type": "code",
   "execution_count": 7,
   "id": "0fa209e9-aa8d-41b3-bc74-fbf7f7e93b1e",
   "metadata": {},
   "outputs": [
    {
     "data": {
      "text/plain": [
       "{'DotNet', 'Java', 'Krishna', 'Likith', 'Praveen', 'Python'}"
      ]
     },
     "execution_count": 7,
     "metadata": {},
     "output_type": "execute_result"
    }
   ],
   "source": [
    "# You can add 2 sets using `update` method\n",
    "my_set_1 = {'Krishna', 'Likith', 'Praveen'}\n",
    "my_set_2 = {'Python', 'DotNet', 'Java'}\n",
    "\n",
    "my_set_1.update(my_set_2)\n",
    "my_set_1"
   ]
  },
  {
   "cell_type": "code",
   "execution_count": 8,
   "id": "894dddd6-4c71-4ec2-82fa-ec721379609a",
   "metadata": {},
   "outputs": [
    {
     "name": "stdout",
     "output_type": "stream",
     "text": [
      "{1, 2, 3, 4, 5, 6} input sorted list\n",
      "{1, 2, 3, 4, 5, 6} input unsorted list\n"
     ]
    }
   ],
   "source": [
    "# We can see the order has been modified.\n",
    "# This is because, set will sort your data\n",
    "\n",
    "my_set = {1,2,3,4,5,6}\n",
    "print(my_set, 'input sorted list')\n",
    "\n",
    "my_set = {3,4,2,5,1,6}\n",
    "print(my_set, 'input unsorted list')"
   ]
  },
  {
   "cell_type": "code",
   "execution_count": 9,
   "id": "be3707ed-4f7d-4b23-813f-d96e2b69373b",
   "metadata": {},
   "outputs": [],
   "source": [
    "# In both cases we see sorted list because set will sort the data for you"
   ]
  },
  {
   "cell_type": "code",
   "execution_count": 10,
   "id": "3037aaaf-9d80-4290-81a9-41558963563b",
   "metadata": {},
   "outputs": [
    {
     "ename": "KeyError",
     "evalue": "7",
     "output_type": "error",
     "traceback": [
      "\u001b[1;31m---------------------------------------------------------------------------\u001b[0m",
      "\u001b[1;31mKeyError\u001b[0m                                  Traceback (most recent call last)",
      "\u001b[1;32m~\\AppData\\Local\\Temp/ipykernel_16452/2021607352.py\u001b[0m in \u001b[0;36m<module>\u001b[1;34m\u001b[0m\n\u001b[0;32m      2\u001b[0m \u001b[1;31m# Remove method will raise an error if the item is not found in the set\u001b[0m\u001b[1;33m\u001b[0m\u001b[1;33m\u001b[0m\u001b[0m\n\u001b[0;32m      3\u001b[0m \u001b[0mmy_set\u001b[0m\u001b[1;33m.\u001b[0m\u001b[0mremove\u001b[0m\u001b[1;33m(\u001b[0m\u001b[1;36m6\u001b[0m\u001b[1;33m)\u001b[0m\u001b[1;33m\u001b[0m\u001b[1;33m\u001b[0m\u001b[0m\n\u001b[1;32m----> 4\u001b[1;33m \u001b[0mmy_set\u001b[0m\u001b[1;33m.\u001b[0m\u001b[0mremove\u001b[0m\u001b[1;33m(\u001b[0m\u001b[1;36m7\u001b[0m\u001b[1;33m)\u001b[0m\u001b[1;33m\u001b[0m\u001b[1;33m\u001b[0m\u001b[0m\n\u001b[0m",
      "\u001b[1;31mKeyError\u001b[0m: 7"
     ]
    }
   ],
   "source": [
    "# You can remove an item using `remove` or `discard` method\n",
    "# Remove method will raise an error if the item is not found in the set\n",
    "my_set.remove(6)\n",
    "my_set.remove(7)"
   ]
  },
  {
   "cell_type": "code",
   "execution_count": 11,
   "id": "1e93f705-ae7b-4c8a-85bc-2ec8d82306bf",
   "metadata": {},
   "outputs": [
    {
     "data": {
      "text/plain": [
       "{1, 2, 3, 4, 5}"
      ]
     },
     "execution_count": 11,
     "metadata": {},
     "output_type": "execute_result"
    }
   ],
   "source": [
    "# Discard method will not raise an error if the item is not found in the set\n",
    "my_set.discard(6)\n",
    "my_set.discard(7)\n",
    "my_set"
   ]
  },
  {
   "cell_type": "code",
   "execution_count": 12,
   "id": "45fc368c-7fa4-4167-b6e5-870887cd9df5",
   "metadata": {},
   "outputs": [
    {
     "data": {
      "text/plain": [
       "{3, 4, 5, 6}"
      ]
     },
     "execution_count": 12,
     "metadata": {},
     "output_type": "execute_result"
    }
   ],
   "source": [
    "# To find the common items from 2 sets, we use `intersection` method\n",
    "my_set_1 = {1, 2, 3, 4, 5, 6}\n",
    "my_set_2 = {3, 4, 5, 6, 7, 8}\n",
    "\n",
    "my_set_1.intersection(my_set_2)"
   ]
  },
  {
   "cell_type": "markdown",
   "id": "006d4b71-ef21-42cc-bfe0-13913a548b8a",
   "metadata": {},
   "source": [
    "__Now you have understood how to store sequential data in python using sets. In next notebook, we will see another datatype called `dictionary`.__\n",
    "\n",
    "__Till then, Happy Coding!__"
   ]
  }
 ],
 "metadata": {
  "kernelspec": {
   "display_name": "Python 3 (ipykernel)",
   "language": "python",
   "name": "python3"
  },
  "language_info": {
   "codemirror_mode": {
    "name": "ipython",
    "version": 3
   },
   "file_extension": ".py",
   "mimetype": "text/x-python",
   "name": "python",
   "nbconvert_exporter": "python",
   "pygments_lexer": "ipython3",
   "version": "3.9.7"
  }
 },
 "nbformat": 4,
 "nbformat_minor": 5
}
