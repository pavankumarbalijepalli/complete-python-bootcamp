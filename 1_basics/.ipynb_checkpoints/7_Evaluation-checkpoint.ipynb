{
 "cells": [
  {
   "cell_type": "markdown",
   "id": "73e9453a-f8fd-481c-a8e2-918dfcfe5f48",
   "metadata": {},
   "source": [
    "## This is an evaluation for Python Basics. \n",
    "__Kindly read through the comments for instructions on where to write code__"
   ]
  },
  {
   "cell_type": "markdown",
   "id": "8f31d037-9394-49b0-8621-a8f5d0c93255",
   "metadata": {},
   "source": [
    "__Write python code for:__\n",
    "1. Create a dictionary `names` which stores \"name1\", \"name2\", \"name3\" as keys and \"Krishna\", \"Praveen\" and \"Akhila\" as values\n",
    "2. Fetch 3rd item from `my_list` variable below and store it in `third_item` variable.\n",
    "3. Fetch 2nd to 4th item *(including 4th item)* from `my_set` variable below and store it in `two_to_four` variable."
   ]
  },
  {
   "cell_type": "code",
   "execution_count": 5,
   "id": "3b9b1e2c-5cfe-4e87-82bf-059846dfc433",
   "metadata": {},
   "outputs": [],
   "source": [
    "# For task 1\n",
    "\n",
    "# For task 2\n",
    "my_list = ['league of legends', 'valorant', 'call of duty', 'fortnite', 'escape from tarkov', 'titanfall 2']\n",
    "\n",
    "# For task 3\n",
    "my_set = {'league of legends', 'valorant', 'call of duty', 'fortnite', 'escape from tarkov', 'titanfall 2'}\n"
   ]
  },
  {
   "cell_type": "code",
   "execution_count": 10,
   "id": "11e06139-6319-4878-9cbd-c01ad655ad46",
   "metadata": {},
   "outputs": [
    {
     "name": "stdout",
     "output_type": "stream",
     "text": [
      "Re-check Task 1, Wrong answer.\n",
      "Create variables and complete task accordingly\n"
     ]
    }
   ],
   "source": [
    "try:\n",
    "    print('Good Job on Task 1' if names and ((names['name1'].upper() == 'KRISHNA') and (names['name1'].upper() != 'Praveen') and (names['name3'].upper() == 'AKHILA')) else 'Re-check Task 1, Wrong answer.')\n",
    "    print('Good Job on Task 2' if third_item and third_item == 'call of duty' else 'Re-check Task 1, Wrong answer.')\n",
    "    print('Good Job on Task 3' if two_to_four and two_to_four == ['valorant', 'call of duty', 'fortnite'] else 'Re-check Task 1, Wrong answer.')\n",
    "except:\n",
    "    print('Create variables and complete task accordingly')"
   ]
  },
  {
   "cell_type": "code",
   "execution_count": 1,
   "id": "6c1b2700-acc3-48c6-b0af-7975a46e7a24",
   "metadata": {},
   "outputs": [],
   "source": [
    "# DO NOT MODIFY THIS CELL\n",
    "file = open('certificate_w2.txt', 'w')"
   ]
  },
  {
   "cell_type": "markdown",
   "id": "95611f29-be65-4db6-bf35-c15eb0c6a1d5",
   "metadata": {},
   "source": [
    "__Write python code for:__\n",
    "1. Create a variable `course_name` with value `\"CERTIFICATE FOR PYTHON BASICS\"` \n",
    "2. Create a variable `wide` with value `109`\n",
    "3. Create a variable `fullstars` with `wide` number of `*`'s in it. __If `wide = 3`, we create `***`__\n",
    "    * [Reference for the above](https://www.geeksforgeeks.org/create-multiple-copies-of-a-string-in-python-by-using-multiplication-operator/)\n",
    "4. Similarly, create a variable `underline` where number of `=`'s is equal to number of letters in `course_name`. __If `course_name` is `\"abc\"`, then `underline` will have `\"===\"` in it.__"
   ]
  },
  {
   "cell_type": "code",
   "execution_count": 2,
   "id": "b78401b4-1318-494e-b831-0a634a866496",
   "metadata": {},
   "outputs": [],
   "source": [
    "# For task 1\n",
    "\n",
    "# For task 2\n",
    "\n",
    "# For task 3\n",
    "\n",
    "# For task 4\n"
   ]
  },
  {
   "cell_type": "code",
   "execution_count": 1,
   "id": "aa8b6ffc-6d90-4728-a939-07cbcb0e6385",
   "metadata": {},
   "outputs": [],
   "source": [
    "# DO NOT MODIFY THIS CELL\n",
    "file.write(f\"\"\"{fullstars}\\n{fullstars}\\n\\n{' '*((wide-len(course_name))//2)}{course_name}\\n{' '*((wide-len(underline))//2)}{underline}\\n\n",
    "{' '*43}This is to certify that\\n\\n\"\"\")"
   ]
  },
  {
   "cell_type": "markdown",
   "id": "955231c1-1181-4154-b695-b7331b61e96f",
   "metadata": {},
   "source": [
    "__Write python code for:__\n",
    "1. Create a variable `name` which takes user input for name of the person\n",
    "2. Create a variable `sal` which takes user input for their salutation. For eg. (Mr, Ms, Mrs, ...)\n",
    "3. Create a variable `full_name` which combines `sal` and `name` with a space in between.\n",
    "4. Create a variable `spaces` which stores the difference between `wide` and `full_name`.\n",
    "5. Perform and integer division on `spaces` with `2` and save the result in `spaces`.\n",
    "6. Create a variable `stars` where number of `*`'s is equal to number of letters in `full_name`"
   ]
  },
  {
   "cell_type": "code",
   "execution_count": null,
   "id": "6d534079-d9f8-485b-9683-dcb4dbe9b93b",
   "metadata": {},
   "outputs": [],
   "source": [
    "# For task 1\n",
    "\n",
    "# For task 2\n",
    "\n",
    "# For task 3\n",
    "\n",
    "# For task 4\n",
    "\n",
    "# For task 5\n",
    "\n",
    "# For task 6\n"
   ]
  },
  {
   "cell_type": "code",
   "execution_count": null,
   "id": "edc3dd46-fa58-4577-8cb4-1cf47c4efc5a",
   "metadata": {},
   "outputs": [],
   "source": [
    "# DO NOT MODIFY THIS CELL\n",
    "file.write(f\"\"\"{' '*spaces}{stars}\\n{' '*spaces}{full_name}\\n{' '*spaces}{stars}\n",
    "\"\"\")"
   ]
  },
  {
   "cell_type": "markdown",
   "id": "2e95bb95-ef1a-46c3-9965-7891c6675964",
   "metadata": {},
   "source": [
    "__Write Python code for:__\n",
    "1. Create a list `numbers` with following numbers:\n",
    "    * 35\n",
    "    * 42\n",
    "    * 42\n",
    "    * 42\n",
    "    * 53\n",
    "    * 42\n",
    "    * 42\n",
    "2. Create a variable `repo_name` with value `\"COMPLETE PYTHON BOOTCAMP\"`\n",
    "3. Create a variable `tutor` with value `\"gh/pavankumarbalijepalli\"`"
   ]
  },
  {
   "cell_type": "code",
   "execution_count": null,
   "id": "c4118e29-edfd-449a-9bab-5acd023b4c94",
   "metadata": {},
   "outputs": [],
   "source": [
    "# For task 1\n",
    "\n",
    "# For task 2\n",
    "\n",
    "# For task 3\n"
   ]
  },
  {
   "cell_type": "code",
   "execution_count": null,
   "id": "e1b77e26-b2e8-47c3-acf0-340fe595819e",
   "metadata": {},
   "outputs": [],
   "source": [
    "# DO NOT MODIFY THIS CELL\n",
    "endnote = \"\"\"NOTE: This is not backed by any learning organisation or university. Kindly consider this certificate as a\n",
    "simple appreciation from me(gh/pavankumarbalijepalli).\"\"\"\n",
    "\n",
    "file.write(f\"\"\"\\n{' '*numbers[0]}has completed the `1_basics` module in\\n\\n{' '*numbers[1]}{'*'*len(repo_name)}\\n{' '*numbers[2]}{repo_name}\n",
    "{' '*numbers[3]}{'*'*len(repo_name)}\\n\\n{' '*numbers[4]}by\\n{' '*numbers[5]}{tutor}\\n{' '*numbers[6]}{'-'*len(tutor)}\\n\\n{fullstars}\\n{fullstars}\\n\\n\\n{endnote}\\n\"\"\")\n",
    "\n",
    "file.close()"
   ]
  }
 ],
 "metadata": {
  "kernelspec": {
   "display_name": "Python 3 (ipykernel)",
   "language": "python",
   "name": "python3"
  },
  "language_info": {
   "codemirror_mode": {
    "name": "ipython",
    "version": 3
   },
   "file_extension": ".py",
   "mimetype": "text/x-python",
   "name": "python",
   "nbconvert_exporter": "python",
   "pygments_lexer": "ipython3",
   "version": "3.10.8"
  }
 },
 "nbformat": 4,
 "nbformat_minor": 5
}
