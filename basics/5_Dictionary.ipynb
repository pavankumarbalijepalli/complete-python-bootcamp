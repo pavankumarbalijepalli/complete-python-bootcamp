{
 "cells": [
  {
   "cell_type": "markdown",
   "id": "588c31c9",
   "metadata": {},
   "source": [
    "__We have seen `sets` to store our data. How let us see another way of storing data, using `dictionary`.__"
   ]
  },
  {
   "cell_type": "markdown",
   "id": "0f689000",
   "metadata": {},
   "source": []
  }
 ],
 "metadata": {
  "kernelspec": {
   "display_name": "Python 3 (ipykernel)",
   "language": "python",
   "name": "python3"
  },
  "language_info": {
   "codemirror_mode": {
    "name": "ipython",
    "version": 3
   },
   "file_extension": ".py",
   "mimetype": "text/x-python",
   "name": "python",
   "nbconvert_exporter": "python",
   "pygments_lexer": "ipython3",
   "version": "3.9.7"
  }
 },
 "nbformat": 4,
 "nbformat_minor": 5
}
